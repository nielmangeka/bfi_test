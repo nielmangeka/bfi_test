{
 "cells": [
  {
   "cell_type": "code",
   "execution_count": 1,
   "metadata": {},
   "outputs": [],
   "source": [
    "import psycopg2\n",
    "import pandas as pd\n",
    "\n",
    "connection = psycopg2.connect(user=\"bfi_user\",\n",
    "                              password=\"bfi\",\n",
    "                              host=\"localhost\",\n",
    "                              port=\"5432\",\n",
    "                              database=\"bfi\")\n",
    "cursor = connection.cursor()"
   ]
  },
  {
   "cell_type": "code",
   "execution_count": 2,
   "metadata": {},
   "outputs": [],
   "source": [
    "postgreSQL_select_Query = '''\n",
    "    SELECT\n",
    "        split_part(owner, '(a.k.a. ', 1) as owner_name_1,\n",
    "        TRIM(translate(translate(SUBSTRING(split_part(owner, 'a.k.a', 2) FROM POSITION('.' IN split_part(owner, 'a.k.a', 2))),'.',''),';','')) AS owner_name_2,\n",
    "        TRIM(REPLACE(TRANSLATE(SUBSTRING(owner FROM POSITION('; a.k.a. ' IN owner) FOR POSITION('),' IN owner) - POSITION('; a.k.a. ' IN owner)) ,';',''),'a.k.a.','')) AS owner_name_3,\n",
    "        TRIM(REPLACE(SUBSTRING(split_part(owner, ';',2) FROM POSITION('),' IN split_part(owner, ';',2))), '),','')) as address,\n",
    "        TO_CHAR(CAST(REPLACE(SUBSTRING(owner FROM POSITION('DOB ' IN owner) FOR POSITION('; POB' IN owner) - POSITION('DOB ' IN owner)),'DOB ','') AS DATE), 'yyyymmdd') as dob,\n",
    "        REPLACE(SUBSTRING(owner FROM POSITION('POB ' IN owner) FOR POSITION('; Gender' IN owner) - POSITION('POB ' IN owner)), 'POB ','') as pob,\n",
    "        \n",
    "        REPLACE(SUBSTRING(owner FROM POSITION('Gender ' IN owner) FOR POSITION(' (individual)' IN owner) - POSITION('Gender ' IN owner)),'Gender ','') AS gender\n",
    "    FROM customer_asset\n",
    "'''"
   ]
  },
  {
   "cell_type": "code",
   "execution_count": 3,
   "metadata": {},
   "outputs": [
    {
     "name": "stderr",
     "output_type": "stream",
     "text": [
      "/var/folders/fb/267jjmp10_l21kk8rz4w8z6h0000gn/T/ipykernel_3778/3610743733.py:1: UserWarning: pandas only supports SQLAlchemy connectable (engine/connection) or database string URI or sqlite3 DBAPI2 connection. Other DBAPI2 objects are not tested. Please consider using SQLAlchemy.\n",
      "  df = pd.read_sql(postgreSQL_select_Query, con=connection)\n"
     ]
    },
    {
     "data": {
      "text/html": [
       "<div>\n",
       "<style scoped>\n",
       "    .dataframe tbody tr th:only-of-type {\n",
       "        vertical-align: middle;\n",
       "    }\n",
       "\n",
       "    .dataframe tbody tr th {\n",
       "        vertical-align: top;\n",
       "    }\n",
       "\n",
       "    .dataframe thead th {\n",
       "        text-align: right;\n",
       "    }\n",
       "</style>\n",
       "<table border=\"1\" class=\"dataframe\">\n",
       "  <thead>\n",
       "    <tr style=\"text-align: right;\">\n",
       "      <th></th>\n",
       "      <th>owner_name_1</th>\n",
       "      <th>owner_name_2</th>\n",
       "      <th>owner_name_3</th>\n",
       "      <th>address</th>\n",
       "      <th>dob</th>\n",
       "      <th>pob</th>\n",
       "      <th>gender</th>\n",
       "    </tr>\n",
       "  </thead>\n",
       "  <tbody>\n",
       "    <tr>\n",
       "      <th>0</th>\n",
       "      <td>ABBAS, Mohammad Hasan</td>\n",
       "      <td>ABBAS, Mohammad Hassan</td>\n",
       "      <td>ABBAS, Muhammad</td>\n",
       "      <td>Damascus, Syria</td>\n",
       "      <td>19640901</td>\n",
       "      <td>Al Ladhiqiyah, Syria</td>\n",
       "      <td>Male</td>\n",
       "    </tr>\n",
       "    <tr>\n",
       "      <th>1</th>\n",
       "      <td>ABDULAH, Hassanudin</td>\n",
       "      <td>ABDUL, Hasanudin</td>\n",
       "      <td>ABDULLAH, Hasanudin</td>\n",
       "      <td>Damascus, Syria</td>\n",
       "      <td>19640901</td>\n",
       "      <td>Al Ladhiqiyah, Syria</td>\n",
       "      <td>Male</td>\n",
       "    </tr>\n",
       "  </tbody>\n",
       "</table>\n",
       "</div>"
      ],
      "text/plain": [
       "             owner_name_1            owner_name_2         owner_name_3  \\\n",
       "0  ABBAS, Mohammad Hasan   ABBAS, Mohammad Hassan      ABBAS, Muhammad   \n",
       "1    ABDULAH, Hassanudin         ABDUL, Hasanudin  ABDULLAH, Hasanudin   \n",
       "\n",
       "           address       dob                   pob gender  \n",
       "0  Damascus, Syria  19640901  Al Ladhiqiyah, Syria   Male  \n",
       "1  Damascus, Syria  19640901  Al Ladhiqiyah, Syria   Male  "
      ]
     },
     "execution_count": 3,
     "metadata": {},
     "output_type": "execute_result"
    }
   ],
   "source": [
    "df = pd.read_sql(postgreSQL_select_Query, con=connection)\n",
    "df"
   ]
  }
 ],
 "metadata": {
  "kernelspec": {
   "display_name": "Python 3",
   "language": "python",
   "name": "python3"
  },
  "language_info": {
   "codemirror_mode": {
    "name": "ipython",
    "version": 3
   },
   "file_extension": ".py",
   "mimetype": "text/x-python",
   "name": "python",
   "nbconvert_exporter": "python",
   "pygments_lexer": "ipython3",
   "version": "3.9.12"
  },
  "orig_nbformat": 4
 },
 "nbformat": 4,
 "nbformat_minor": 2
}
